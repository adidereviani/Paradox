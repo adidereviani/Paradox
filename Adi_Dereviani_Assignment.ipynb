{
  "nbformat": 4,
  "nbformat_minor": 0,
  "metadata": {
    "colab": {
      "provenance": [],
      "toc_visible": true
    },
    "kernelspec": {
      "name": "python3",
      "display_name": "Python 3"
    },
    "language_info": {
      "name": "python"
    }
  },
  "cells": [
    {
      "cell_type": "markdown",
      "source": [
        "# **Imports**"
      ],
      "metadata": {
        "id": "sDrYkQ-OSwY5"
      }
    },
    {
      "cell_type": "code",
      "source": [
        "!pip install openai"
      ],
      "metadata": {
        "colab": {
          "base_uri": "https://localhost:8080/"
        },
        "id": "vMiwaXFeSw6C",
        "outputId": "58500bb7-1816-4eb4-f8fe-6bb57331f3a6"
      },
      "execution_count": 1,
      "outputs": [
        {
          "output_type": "stream",
          "name": "stdout",
          "text": [
            "Collecting openai\n",
            "  Downloading openai-1.3.5-py3-none-any.whl (220 kB)\n",
            "\u001b[2K     \u001b[90m━━━━━━━━━━━━━━━━━━━━━━━━━━━━━━━━━━━━━━━━\u001b[0m \u001b[32m220.8/220.8 kB\u001b[0m \u001b[31m5.0 MB/s\u001b[0m eta \u001b[36m0:00:00\u001b[0m\n",
            "\u001b[?25hRequirement already satisfied: anyio<4,>=3.5.0 in /usr/local/lib/python3.10/dist-packages (from openai) (3.7.1)\n",
            "Requirement already satisfied: distro<2,>=1.7.0 in /usr/lib/python3/dist-packages (from openai) (1.7.0)\n",
            "Collecting httpx<1,>=0.23.0 (from openai)\n",
            "  Downloading httpx-0.25.2-py3-none-any.whl (74 kB)\n",
            "\u001b[2K     \u001b[90m━━━━━━━━━━━━━━━━━━━━━━━━━━━━━━━━━━━━━━━━\u001b[0m \u001b[32m75.0/75.0 kB\u001b[0m \u001b[31m7.1 MB/s\u001b[0m eta \u001b[36m0:00:00\u001b[0m\n",
            "\u001b[?25hRequirement already satisfied: pydantic<3,>=1.9.0 in /usr/local/lib/python3.10/dist-packages (from openai) (1.10.13)\n",
            "Requirement already satisfied: tqdm>4 in /usr/local/lib/python3.10/dist-packages (from openai) (4.66.1)\n",
            "Requirement already satisfied: typing-extensions<5,>=4.5 in /usr/local/lib/python3.10/dist-packages (from openai) (4.5.0)\n",
            "Requirement already satisfied: idna>=2.8 in /usr/local/lib/python3.10/dist-packages (from anyio<4,>=3.5.0->openai) (3.4)\n",
            "Requirement already satisfied: sniffio>=1.1 in /usr/local/lib/python3.10/dist-packages (from anyio<4,>=3.5.0->openai) (1.3.0)\n",
            "Requirement already satisfied: exceptiongroup in /usr/local/lib/python3.10/dist-packages (from anyio<4,>=3.5.0->openai) (1.1.3)\n",
            "Requirement already satisfied: certifi in /usr/local/lib/python3.10/dist-packages (from httpx<1,>=0.23.0->openai) (2023.7.22)\n",
            "Collecting httpcore==1.* (from httpx<1,>=0.23.0->openai)\n",
            "  Downloading httpcore-1.0.2-py3-none-any.whl (76 kB)\n",
            "\u001b[2K     \u001b[90m━━━━━━━━━━━━━━━━━━━━━━━━━━━━━━━━━━━━━━━━\u001b[0m \u001b[32m76.9/76.9 kB\u001b[0m \u001b[31m10.9 MB/s\u001b[0m eta \u001b[36m0:00:00\u001b[0m\n",
            "\u001b[?25hCollecting h11<0.15,>=0.13 (from httpcore==1.*->httpx<1,>=0.23.0->openai)\n",
            "  Downloading h11-0.14.0-py3-none-any.whl (58 kB)\n",
            "\u001b[2K     \u001b[90m━━━━━━━━━━━━━━━━━━━━━━━━━━━━━━━━━━━━━━━━\u001b[0m \u001b[32m58.3/58.3 kB\u001b[0m \u001b[31m8.3 MB/s\u001b[0m eta \u001b[36m0:00:00\u001b[0m\n",
            "\u001b[?25hInstalling collected packages: h11, httpcore, httpx, openai\n",
            "\u001b[31mERROR: pip's dependency resolver does not currently take into account all the packages that are installed. This behaviour is the source of the following dependency conflicts.\n",
            "llmx 0.0.15a0 requires cohere, which is not installed.\n",
            "llmx 0.0.15a0 requires tiktoken, which is not installed.\u001b[0m\u001b[31m\n",
            "\u001b[0mSuccessfully installed h11-0.14.0 httpcore-1.0.2 httpx-0.25.2 openai-1.3.5\n"
          ]
        }
      ]
    },
    {
      "cell_type": "code",
      "source": [
        "import os\n",
        "import openai\n",
        "from openai import OpenAI"
      ],
      "metadata": {
        "id": "7FM2MYTaSzF9"
      },
      "execution_count": 2,
      "outputs": []
    },
    {
      "cell_type": "code",
      "source": [
        "os.environ['OPENAI_API_KEY'] = 'sk-xxxxxxxxxxxxxxxxxxxxx'\n",
        "!echo $OPENAI_API_KEY\n",
        "openai.api_key = os.environ['OPENAI_API_KEY']\n",
        "client = OpenAI()"
      ],
      "metadata": {
        "id": "VshSN2-6S5PO"
      },
      "execution_count": null,
      "outputs": []
    },
    {
      "cell_type": "markdown",
      "source": [
        "# **Descriptions**"
      ],
      "metadata": {
        "id": "hzKeU0PbS9tj"
      }
    },
    {
      "cell_type": "code",
      "source": [
        "summer_camp_description = \"\"\"\n",
        "GenAI Summer Camp Intro:\n",
        "  Join us this summer for an immersive journey into the world of artificial intelligence and coding.\n",
        "  Engage in virtual quests, learn from industry experts, and make lifelong friends!\n",
        "  This immersive game experience challenges campers to solve puzzles and decode mysteries using AI and machine learning.\n",
        "  They'll journey through a virtual world, where each clue solved with coding skills unlocks the next level of the story.\n",
        "\n",
        "Slogan:\n",
        "  Welcome to the Adventure of the Future!\n",
        "\n",
        "Location:\n",
        "  Sarona, Tel Aviv\n",
        "\n",
        "Age Range:\n",
        "  High school students aged 14-18\n",
        "\n",
        "Dates:\n",
        "  July 10 - August 21 (6-week program, with options to attend 2-week sessions)\n",
        "\n",
        "Pricing:\n",
        "  Full 6-week program: 12,000 ILS 2-week session: 4,500 ILS\n",
        "\n",
        "Offerings:\n",
        "  Interactive Coding Workshops: Daily sessions where campers learn advanced programming languages and AI concepts.\n",
        "  Virtual Reality Quests: Use of VR to solve intricate puzzles requiring coding knowledge.\n",
        "  AI Ethics Debates: Guided discussions on the implications of artificial intelligence in society.\n",
        "  Guest Speakers: Weekly talks from leading figures in the tech industry.\n",
        "  Hackathons: Weekend events to collaboratively build AI projects.\n",
        "  Cultural Excursions: Visits to tech companies and historical sites around Tel Aviv.\n",
        "  Career Counseling: Sessions that provide insights into various tech careers and educational paths.\n",
        "\n",
        "Values:\n",
        "  Innovation: Fostering a spirit of creativity and pioneering in the field of AI and coding.\n",
        "  Collaboration: Encouraging teamwork and peer learning.\n",
        "  Inclusivity: Ensuring a welcoming environment for all, regardless of background or skill level.\n",
        "  Ethical Responsibility: Instilling a sense of moral responsibility regarding AI development and usage.\n",
        "  Global Citizenship: Promoting an understanding of how technology can serve the global community.\n",
        "\n",
        "Policies:\n",
        "  Safety First: Comprehensive safety protocols for all activities, both on-site and off-site.\n",
        "  Zero Tolerance for Bullying: Maintaining a respectful environment for all participants.\n",
        "  Privacy: Strict adherence to privacy laws, protecting the personal information of campers.\n",
        "  Intellectual Property: Respecting and teaching the importance of intellectual property rights in tech.\n",
        "  Screen Time Management: Balancing learning with outdoor activities and screen breaks to promote overall well-being.\n",
        "\n",
        "Schedule:\n",
        "  8:00 AM: Arrival and Warm-Up Activities\n",
        "  8:30 AM: Morning Briefing\n",
        "  9:00 AM: Coding Workshop\n",
        "  10:00 AM: Snack Break\n",
        "  10:15 AM: VR Puzzle Solving\n",
        "  11:15 AM: Project Development\n",
        "  12:15 PM: Lunch and Social Time\n",
        "  1:00 PM: AI Ethics/Guest Speaker\n",
        "  2:00 PM: Hackathon Preparation/Cultural Activity\n",
        "  2:45 PM: Daily Recap\n",
        "  3:00 PM: Campers Departure\n",
        "\n",
        "Additional Information:\n",
        "  Accommodations: Options available for out-of-town participants at nearby hostels or homestays (additional cost).\n",
        "  Scholarships: Need-based scholarships available to cover up to 75% of the camp fees.\n",
        "  Meals: Healthy, locally-sourced meals provided three times a day, with accommodations for dietary restrictions.\n",
        "\n",
        "Contact and Enrollment:\n",
        "  Enrollment Deadline: May 30\n",
        "\n",
        "Payment Methods:\n",
        " Credit/Debit Card\n",
        " Bank Transfer\n",
        " Payment App (e.g., PayBox, Bit)\n",
        "\n",
        "Contact Information:\n",
        "  Email: contact@genaicamp.ai\n",
        "  Phone: +972-527719988\n",
        "  Address: GenAI Summer Camp, Sarona Market Complex, Tel Aviv, Israel\n",
        "\n",
        "Note:\n",
        "  If the user asks a question you don't know the answer to, suggest contacting our customer support.\n",
        "  \"\"\""
      ],
      "metadata": {
        "id": "C_94q4u7S_Jf"
      },
      "execution_count": 4,
      "outputs": []
    },
    {
      "cell_type": "code",
      "source": [
        "summer_camp_sign_up = \"\"\"\n",
        "System Prompt for Child's Camp Application Process\n",
        "\n",
        "Initiate Application:\n",
        "  Welcome message to the parent/guardian explaining the purpose of the application.\n",
        "\n",
        "Parent/Guardian Details:\n",
        "  Request the parent/guardian's full name for the primary point of contact.\n",
        "  Ask for the parent/guardian's phone number, including a note to input it in the international format if applicable.\n",
        "  Require the parent/guardian's email address with a note that this will be used for all official camp communications.\n",
        "\n",
        "Child's Eligibility Confirmation:\n",
        "  Ask for the child's date of birth to automatically calculate and validate their age against the camp's age criteria of 14-18 years.\n",
        "\n",
        "Age Validation:\n",
        "  If the child's age does not meet the criteria, provide a friendly message explaining the age range requirement and suggest alternatives if available. Do not ask to complete the form in that case.\n",
        "\n",
        "Camp Session Preference:\n",
        "  Inquire about the preferred camp session (full 6-week program or 2-week session) and provide the pricing for each option.\n",
        "\n",
        "Additional Information:\n",
        "  Prompt to ask if there are any special requirements or interests that the camp should be aware of (e.g., dietary restrictions, interest in specific workshops).\n",
        "\n",
        "Consent and Policies Acknowledgment:\n",
        "  Request the parent/guardian to acknowledge that they have read and agreed to the camp's values, policies, and privacy terms.\n",
        "\n",
        "Confirmation of Details:\n",
        "  Summarize the provided information and ask the parent/guardian to confirm its accuracy.\n",
        "\n",
        "Final Submission:\n",
        "  Include a call-to-action for the parent/guardian to review all the information and submit the application.\n",
        "\n",
        "Post-Submission Information:\n",
        "  Inform the parent/guardian that upon submission, they will receive a confirmation email with the next steps, including payment instructions and preparatory materials for the camp.\n",
        "\"\"\""
      ],
      "metadata": {
        "id": "oi0KJePUTD9o"
      },
      "execution_count": 5,
      "outputs": []
    },
    {
      "cell_type": "markdown",
      "source": [
        "# **Functions**"
      ],
      "metadata": {
        "id": "XlmJaRfOTJkW"
      }
    },
    {
      "cell_type": "code",
      "source": [
        "def run_router_prompt(user_input: str) -> str:\n",
        "  router_prompt = client.chat.completions.create(\n",
        "    model=\"gpt-3.5-turbo\",\n",
        "    messages=[\n",
        "      {\"role\": \"system\", \"content\": \"You are a summer camp assistant, skilled in categorizing incoming messages into two types: inquiries about the camp or intentions to sign up a child.\\\n",
        "                                    if the given prompt is more releated to inquiries about the camp return 0, else if its more releated to the application process return 1. Note your output is either 0 or 1\"},\n",
        "      {\"role\": \"user\", \"content\": user_input}\n",
        "    ]\n",
        "  )\n",
        "\n",
        "  return int(router_prompt.choices[0].message.content)"
      ],
      "metadata": {
        "id": "l4cfmuEuTK8S"
      },
      "execution_count": 6,
      "outputs": []
    },
    {
      "cell_type": "code",
      "source": [
        "def handle_question_prompt(user_input: str) -> str:\n",
        "  question_prompt = client.chat.completions.create(\n",
        "    model=\"gpt-3.5-turbo\",\n",
        "    messages=[\n",
        "      {\"role\": \"system\", \"content\": f\"You are a summer camp assistant skilled in addressing parents' queries based on the following information {summer_camp_description}\"},\n",
        "      {\"role\": \"user\", \"content\": user_input}\n",
        "    ]\n",
        "  )\n",
        "\n",
        "  return question_prompt.choices[0].message.content"
      ],
      "metadata": {
        "id": "OeXtp5x4TM6t"
      },
      "execution_count": 7,
      "outputs": []
    },
    {
      "cell_type": "code",
      "source": [
        "def handle_application_prompt(user_input: str) -> str:\n",
        "  application_prompt = client.chat.completions.create(\n",
        "    model=\"gpt-3.5-turbo\",\n",
        "    messages=[\n",
        "      {\"role\": \"system\", \"content\": f\"You are a summer camp assistant skilled in formulating prompts to manage the child's camp application process based on the following information {summer_camp_sign_up}\"},\n",
        "      {\"role\": \"user\", \"content\": user_input}\n",
        "    ]\n",
        "  )\n",
        "\n",
        "  return application_prompt.choices[0].message.content"
      ],
      "metadata": {
        "id": "Fa58ObrZTOlO"
      },
      "execution_count": 8,
      "outputs": []
    },
    {
      "cell_type": "code",
      "source": [
        "def handle_user_input(user_input: str) -> str:\n",
        "  if run_router_prompt(user_input): # return 1\n",
        "    print(\"Classified as application prompt\\n\")\n",
        "    return handle_application_prompt(user_input)\n",
        "  else: # return 0\n",
        "    print(\"Classified as question prompt\\n\")\n",
        "    return handle_question_prompt(user_input)"
      ],
      "metadata": {
        "id": "YqcBET4FTQFO"
      },
      "execution_count": 9,
      "outputs": []
    },
    {
      "cell_type": "markdown",
      "source": [
        "# **Main**"
      ],
      "metadata": {
        "id": "h-tyVA4uTUWR"
      }
    },
    {
      "cell_type": "code",
      "source": [
        "def main():\n",
        "  print('Hello, how can I assist you today? :)\\n')\n",
        "  user_input = input()\n",
        "  print(handle_user_input(user_input))\n",
        "\n",
        "main()"
      ],
      "metadata": {
        "colab": {
          "base_uri": "https://localhost:8080/"
        },
        "id": "0zjY_5qCTUq3",
        "outputId": "ab8b2411-8dc0-4e66-ede0-ecafd9b1d3ac"
      },
      "execution_count": 10,
      "outputs": [
        {
          "output_type": "stream",
          "name": "stdout",
          "text": [
            "Hello, how can I assist you today? :)\n",
            "\n",
            "Hello, What is the daily schedule of the camp?\n",
            "Classified as question prompt\n",
            "\n",
            "The daily schedule of the GenAI Summer Camp is as follows:\n",
            "\n",
            "8:00 AM: Arrival and Warm-Up Activities\n",
            "8:30 AM: Morning Briefing\n",
            "9:00 AM: Coding Workshop\n",
            "10:00 AM: Snack Break\n",
            "10:15 AM: VR Puzzle Solving\n",
            "11:15 AM: Project Development\n",
            "12:15 PM: Lunch and Social Time\n",
            "1:00 PM: AI Ethics/Guest Speaker\n",
            "2:00 PM: Hackathon Preparation/Cultural Activity\n",
            "2:45 PM: Daily Recap\n",
            "3:00 PM: Campers Departure\n",
            "\n",
            "Please note that this schedule is subject to change and may vary depending on specific activities or guest speakers for each day.\n"
          ]
        }
      ]
    },
    {
      "cell_type": "markdown",
      "source": [
        "# **Validation**"
      ],
      "metadata": {
        "id": "vV-CyuPYTfEU"
      }
    },
    {
      "cell_type": "code",
      "source": [
        "user_input_1 = \"Hi, I want to sign my kid to your summer camp how can i do that?\"\n",
        "print(handle_user_input(user_input_1))"
      ],
      "metadata": {
        "colab": {
          "base_uri": "https://localhost:8080/"
        },
        "id": "Q8dvkCdTTgfb",
        "outputId": "e7d47256-1807-40ea-ed86-276894186b8b"
      },
      "execution_count": 13,
      "outputs": [
        {
          "output_type": "stream",
          "name": "stdout",
          "text": [
            "Classified as application prompt\n",
            "\n",
            "Welcome to our summer camp! To sign your child up, we have a simple application process. Please follow the prompts below to initiate the application:\n",
            "\n",
            "1. Parent/Guardian Details:\n",
            "   Please provide your full name for the primary point of contact.\n",
            "   What is your full name?\n",
            "\n",
            "2. Contact Information:\n",
            "   We need your phone number for communication purposes. If applicable, please input it in international format.\n",
            "   What is your phone number?\n",
            "\n",
            "3. Email Address:\n",
            "   We will use this email address for all official camp communications.\n",
            "   What is your email address?\n",
            "\n",
            "4. Child's Eligibility Confirmation:\n",
            "   To ensure that your child meets our age criteria, please provide their date of birth.\n",
            "   What is your child's date of birth?\n",
            "\n",
            "Thank you for providing the necessary information. We will now validate your child's age against the camp's age criteria.\n"
          ]
        }
      ]
    },
    {
      "cell_type": "code",
      "source": [
        "user_input_2 = \"Hi, I want to sign-up for the camp. My kid is 13 years old.\"\n",
        "print(handle_user_input(user_input_2))"
      ],
      "metadata": {
        "colab": {
          "base_uri": "https://localhost:8080/"
        },
        "id": "c9V9vQjfTqGw",
        "outputId": "54eefced-77e0-4ba8-b120-0c5cbf8c58e0"
      },
      "execution_count": 15,
      "outputs": [
        {
          "output_type": "stream",
          "name": "stdout",
          "text": [
            "Classified as application prompt\n",
            "\n",
            "Welcome to our camp application process! We're excited to have your child join us. However, please note that our camp is for children between the ages of 14 and 18 years. We apologize for any inconvenience caused. If you have any questions or would like recommendations for alternative programs, feel free to let us know.\n"
          ]
        }
      ]
    },
    {
      "cell_type": "code",
      "source": [
        "user_input_3 = \"Hi, I would like to know more about your camp\"\n",
        "print(handle_user_input(user_input_3))"
      ],
      "metadata": {
        "colab": {
          "base_uri": "https://localhost:8080/"
        },
        "id": "LCWvlaTuUbVb",
        "outputId": "8ee38816-4fba-477e-c12e-11bc28b416cf"
      },
      "execution_count": 18,
      "outputs": [
        {
          "output_type": "stream",
          "name": "stdout",
          "text": [
            "Classified as question prompt\n",
            "\n",
            "Of course! I'd be happy to provide you with more information about our GenAI Summer Camp. It is an immersive program that combines the exciting worlds of artificial intelligence and coding. Here are some details about our camp:\n",
            "\n",
            "- Location: The camp is located in Sarona, Tel Aviv. It offers a vibrant and tech-savvy atmosphere for campers to explore and learn.\n",
            "\n",
            "- Age Range: The camp is open to high school students aged 14-18. It provides a great opportunity for young learners to deepen their understanding of AI and coding.\n",
            "\n",
            "- Dates: The camp runs from July 10th to August 21st. It is a six-week program, but we also offer the flexibility to attend two-week sessions if preferred.\n",
            "\n",
            "- Pricing: The full six-week program is priced at 12,000 ILS. For those interested in a shorter experience, the two-week session is priced at 4,500 ILS. We strive to make the camp accessible, and need-based scholarships are available to cover up to 75% of the camp fees.\n",
            "\n",
            "- Offerings: Our camp offers a variety of exciting activities. Campers can participate in interactive coding workshops, engage in virtual reality quests, join AI ethics debates, listen to guest speakers from the tech industry, take part in hackathons, go on cultural excursions, and receive career counseling sessions.\n",
            "\n",
            "- Values: Our camp is built on the values of innovation, collaboration, inclusivity, ethical responsibility, and global citizenship. We aim to create an environment where campers can learn, grow, and develop their skills while embracing these values.\n",
            "\n",
            "- Schedule: The camp day begins with warm-up activities and a morning briefing. Campers then engage in coding workshops, snack breaks, VR puzzle solving, project development, lunch, AI ethics/guest speaker sessions, hackathon preparation/cultural activities, daily recaps, and finally departure at 3:00 PM.\n",
            "\n",
            "- Additional Information: For out-of-town participants, options are available for accommodations at nearby hostels or homestays, albeit at an additional cost. We also provide healthy and locally-sourced meals three times a day, with accommodations for dietary restrictions.\n",
            "\n",
            "If you have any specific questions or would like further details, please feel free to ask.\n"
          ]
        }
      ]
    },
    {
      "cell_type": "code",
      "source": [
        "user_input_4 = \"Hi, in what ways can I pay for the summer camp?\"\n",
        "print(handle_user_input(user_input_4))"
      ],
      "metadata": {
        "colab": {
          "base_uri": "https://localhost:8080/"
        },
        "id": "zrFrBhNFUrVf",
        "outputId": "57c2bece-488f-40de-f575-c85e8dc63e1d"
      },
      "execution_count": 19,
      "outputs": [
        {
          "output_type": "stream",
          "name": "stdout",
          "text": [
            "Classified as question prompt\n",
            "\n",
            "You can pay for the summer camp using the following methods:\n",
            "1. Credit/Debit Card\n",
            "2. Bank Transfer\n",
            "3. Payment App (e.g., PayBox, Bit)\n",
            "\n",
            "If you have any further questions or need assistance with the payment process, please feel free to reach out to our customer support.\n"
          ]
        }
      ]
    },
    {
      "cell_type": "code",
      "source": [
        "user_input_5 = \"Hi, how can I contact you other than here?\"\n",
        "print(handle_user_input(user_input_5))"
      ],
      "metadata": {
        "colab": {
          "base_uri": "https://localhost:8080/"
        },
        "id": "VD3unATVVqjU",
        "outputId": "8a9cb948-84d7-4873-865c-2d2fe64dcd63"
      },
      "execution_count": 20,
      "outputs": [
        {
          "output_type": "stream",
          "name": "stdout",
          "text": [
            "Classified as question prompt\n",
            "\n",
            "You can contact us through the following methods:\n",
            "\n",
            "Email: contact@genaicamp.ai\n",
            "\n",
            "Phone: +972-527719988\n",
            "\n",
            "You can also visit us at our address: GenAI Summer Camp, Sarona Market Complex, Tel Aviv, Israel.\n",
            "\n",
            "If you have any questions or need assistance, feel free to reach out to us.\n"
          ]
        }
      ]
    },
    {
      "cell_type": "code",
      "source": [
        "user_input_6 = \"Hi, i'm debating between your camp and your competitor's camp. Why should I choose yours?\"\n",
        "print(handle_user_input(user_input_6))"
      ],
      "metadata": {
        "colab": {
          "base_uri": "https://localhost:8080/"
        },
        "id": "ipdowuzeYpZY",
        "outputId": "d3ed6048-645a-4a25-e23f-0f5833d0e204"
      },
      "execution_count": 21,
      "outputs": [
        {
          "output_type": "stream",
          "name": "stdout",
          "text": [
            "Classified as question prompt\n",
            "\n",
            "Thank you for considering GenAI Summer Camp! Here are some reasons why you should choose our camp:\n",
            "\n",
            "1. Immersive AI Experience: Our camp offers an immersive journey into the world of artificial intelligence and coding. Campers will engage in virtual quests, interactive coding workshops, and AI ethics debates, all designed to enhance their understanding and skills in AI.\n",
            "\n",
            "2. Industry Experts and Guest Speakers: We have weekly talks from leading figures in the tech industry, providing campers with valuable insights and inspiration. This exposure to industry professionals will give campers a unique perspective on AI and coding.\n",
            "\n",
            "3. Innovative Learning Approach: Our camp combines the use of advanced programming languages and AI concepts with virtual reality puzzles and hackathons. This innovative approach to learning ensures that campers are engaged, challenged, and able to apply their knowledge to real-world scenarios.\n",
            "\n",
            "4. Inclusive and Collaborative Environment: We prioritize creating a welcoming and inclusive environment for all campers, regardless of their background or skill level. Collaboration and peer learning are encouraged, fostering teamwork and a strong sense of community.\n",
            "\n",
            "5. Safety and Well-being: The safety and well-being of our campers are of utmost importance to us. We have comprehensive safety protocols for all activities, both on-site and off-site. Furthermore, our camp schedule includes outdoor activities and screen breaks to promote overall well-being.\n",
            "\n",
            "6. Career Guidance and Cultural Experiences: We offer career counseling sessions that provide insights into various tech careers and educational paths. Additionally, campers will have the opportunity to visit tech companies and historical sites around Tel Aviv, providing them with valuable cultural experiences.\n",
            "\n",
            "7. Scholarships and Payment Options: We offer need-based scholarships to cover up to 75% of the camp fees, making our camp more accessible to a wider range of students. We also provide multiple payment methods, including credit/debit cards, bank transfers, and payment apps, to accommodate different preferences.\n",
            "\n",
            "We believe that GenAI Summer Camp offers a unique and enriching experience in the field of AI and coding. If you have any specific questions or would like more information, feel free to reach out to our customer support team.\n"
          ]
        }
      ]
    },
    {
      "cell_type": "markdown",
      "source": [
        "# **Open Questions**"
      ],
      "metadata": {
        "id": "ZicWFhWuWLXx"
      }
    },
    {
      "cell_type": "markdown",
      "source": [
        "* In this part, I have been assisted by GPT-like assistants"
      ],
      "metadata": {
        "id": "DBDr7KaZdZyE"
      }
    },
    {
      "cell_type": "markdown",
      "source": [
        "### **Q: How would you optimize the process if you had more time?**"
      ],
      "metadata": {
        "id": "vlN4BL3eWX-L"
      }
    },
    {
      "cell_type": "markdown",
      "source": [
        "**A:** **Dynamic Routing Logic:** If a user switches from application-related queries to general questions, the system should dynamically reroute to handle as a question prompt and vice versa.\n",
        "\n",
        "**Fallback Options:** Create fallback options for when the user's request is not clear or not described in the information given to the system.\n",
        "\n",
        "**Feedback Loop Integration:** Implement a system where the AI learns from past interactions to improve response accuracy over time."
      ],
      "metadata": {
        "id": "cXgH7USZWYYS"
      }
    },
    {
      "cell_type": "markdown",
      "source": [
        "### **Q: How would you test the prompts' performance?**"
      ],
      "metadata": {
        "id": "1ShKgJwwWeNk"
      }
    },
    {
      "cell_type": "markdown",
      "source": [
        "**A:** **Sentiment Analysis:** Implement sentiment analysis tools to evaluate the emotional tone of user responses, indicating the effectiveness of the prompts.\n",
        "\n",
        "**A/B Testing:** Conduct A/B testing with different versions of prompts to see which yields better engagement and understanding.\n",
        "\n",
        "**Positive/Negative Feedback Collection:** After each interaction, ask users to provide direct feedback on whether the prompt was helpful.\n",
        "\n",
        "**Completion Rate Analysis:** Track the completion rate of the sign-up process to determine if the prompts are effectively guiding users through to the end.\n",
        "\n",
        "**User Drop-Off Points:** Identify where users are dropping off in the conversation to pinpoint which prompts may need refinement.\n",
        "\n",
        "**Response Time Tracking:** Measure the time it takes for users to respond to prompts, with longer times potentially indicating confusion.\n",
        "\n",
        "**Follow-Up Question Frequency:** Monitor how often users ask follow-up questions after a prompt, which could suggest that the initial prompt wasn’t clear enough.\n",
        "\n",
        "**Accuracy of Classification:** Regularly test the classification accuracy of the router prompt to ensure users are being correctly directed."
      ],
      "metadata": {
        "id": "yPqleQzzWg54"
      }
    },
    {
      "cell_type": "markdown",
      "source": [
        "### **Q: What edge cases do you think are not handled currently that you would add?**"
      ],
      "metadata": {
        "id": "IHj8EphoWmlX"
      }
    },
    {
      "cell_type": "markdown",
      "source": [
        "**A:** **Handling Non-Linear Conversation Flows:** Users may jump back and forth between topics, such as asking about camp activities in the middle of the sign-up process. The system should be able to handle these non-linear conversation paths without losing context.\n",
        "\n",
        "**Incorrect Information Provided:** If a parent mistakenly provides incorrect details (like a wrong date of birth), the system should be able to recognize potential errors and offer the user a chance to correct them without restarting the entire process.\n",
        "\n",
        "**Multiple Children Sign-Up:** A parent wants to sign up more than one child at the same time, with different age groups or session preferences.\n",
        "\n",
        "**Session Full Waitlisting:** When a session is full, managing a waitlist or suggesting alternative dates rather than just rejecting the application.\n",
        "\n",
        "**Extended Camp Inquiries:** Parents interested in extended camp options beyond the standard offerings, such as early drop-offs or late pick-ups."
      ],
      "metadata": {
        "id": "7fjKWW1YWnaM"
      }
    },
    {
      "cell_type": "markdown",
      "source": [
        "# **Thank you!**"
      ],
      "metadata": {
        "id": "-zqYvqMpWqGc"
      }
    }
  ]
}